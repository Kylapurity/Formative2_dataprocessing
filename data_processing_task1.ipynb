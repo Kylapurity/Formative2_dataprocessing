{
 "cells": [
  {
   "cell_type": "code",
   "execution_count": 1,
   "metadata": {
    "id": "cPEmvu4SGkFs"
   },
   "outputs": [
    {
     "name": "stderr",
     "output_type": "stream",
     "text": [
      "Matplotlib is building the font cache; this may take a moment.\n"
     ]
    }
   ],
   "source": [
    "import pandas as pd\n",
    "import numpy as np\n",
    "import matplotlib.pyplot as plt\n",
    "import datetime\n",
    "import seaborn as sns\n",
    "from sklearn.impute import KNNImputer\n",
    "from imblearn.over_sampling import SMOTE\n",
    "from sklearn.feature_extraction.text import TfidfVectorizer"
   ]
  },
  {
   "cell_type": "code",
   "execution_count": 2,
   "metadata": {
    "id": "c-7eeIXyHbx4"
   },
   "outputs": [],
   "source": [
    "df = pd.read_csv(\"initial_datasets/customer_transactions.csv\")"
   ]
  },
  {
   "cell_type": "code",
   "execution_count": 3,
   "metadata": {
    "colab": {
     "base_uri": "https://localhost:8080/",
     "height": 363
    },
    "id": "HFXHWDv9Hesi",
    "outputId": "6d2113d5-1ea4-4eff-c163-474d711f12ee"
   },
   "outputs": [
    {
     "data": {
      "text/html": [
       "<div>\n",
       "<style scoped>\n",
       "    .dataframe tbody tr th:only-of-type {\n",
       "        vertical-align: middle;\n",
       "    }\n",
       "\n",
       "    .dataframe tbody tr th {\n",
       "        vertical-align: top;\n",
       "    }\n",
       "\n",
       "    .dataframe thead th {\n",
       "        text-align: right;\n",
       "    }\n",
       "</style>\n",
       "<table border=\"1\" class=\"dataframe\">\n",
       "  <thead>\n",
       "    <tr style=\"text-align: right;\">\n",
       "      <th></th>\n",
       "      <th>customer_id_legacy</th>\n",
       "      <th>transaction_id</th>\n",
       "      <th>purchase_amount</th>\n",
       "      <th>purchase_date</th>\n",
       "      <th>product_category</th>\n",
       "      <th>customer_rating</th>\n",
       "    </tr>\n",
       "  </thead>\n",
       "  <tbody>\n",
       "    <tr>\n",
       "      <th>0</th>\n",
       "      <td>151</td>\n",
       "      <td>1001</td>\n",
       "      <td>408</td>\n",
       "      <td>2024-01-01</td>\n",
       "      <td>Sports</td>\n",
       "      <td>2.3</td>\n",
       "    </tr>\n",
       "    <tr>\n",
       "      <th>1</th>\n",
       "      <td>192</td>\n",
       "      <td>1002</td>\n",
       "      <td>332</td>\n",
       "      <td>2024-01-02</td>\n",
       "      <td>Electronics</td>\n",
       "      <td>4.2</td>\n",
       "    </tr>\n",
       "    <tr>\n",
       "      <th>2</th>\n",
       "      <td>114</td>\n",
       "      <td>1003</td>\n",
       "      <td>442</td>\n",
       "      <td>2024-01-03</td>\n",
       "      <td>Electronics</td>\n",
       "      <td>2.1</td>\n",
       "    </tr>\n",
       "    <tr>\n",
       "      <th>3</th>\n",
       "      <td>171</td>\n",
       "      <td>1004</td>\n",
       "      <td>256</td>\n",
       "      <td>2024-01-04</td>\n",
       "      <td>Clothing</td>\n",
       "      <td>2.8</td>\n",
       "    </tr>\n",
       "    <tr>\n",
       "      <th>4</th>\n",
       "      <td>160</td>\n",
       "      <td>1005</td>\n",
       "      <td>64</td>\n",
       "      <td>2024-01-05</td>\n",
       "      <td>Clothing</td>\n",
       "      <td>1.3</td>\n",
       "    </tr>\n",
       "    <tr>\n",
       "      <th>5</th>\n",
       "      <td>120</td>\n",
       "      <td>1006</td>\n",
       "      <td>395</td>\n",
       "      <td>2024-01-06</td>\n",
       "      <td>Groceries</td>\n",
       "      <td>1.1</td>\n",
       "    </tr>\n",
       "    <tr>\n",
       "      <th>6</th>\n",
       "      <td>182</td>\n",
       "      <td>1007</td>\n",
       "      <td>91</td>\n",
       "      <td>2024-01-07</td>\n",
       "      <td>Sports</td>\n",
       "      <td>4.9</td>\n",
       "    </tr>\n",
       "    <tr>\n",
       "      <th>7</th>\n",
       "      <td>186</td>\n",
       "      <td>1008</td>\n",
       "      <td>429</td>\n",
       "      <td>2024-01-08</td>\n",
       "      <td>Clothing</td>\n",
       "      <td>4.3</td>\n",
       "    </tr>\n",
       "    <tr>\n",
       "      <th>8</th>\n",
       "      <td>174</td>\n",
       "      <td>1009</td>\n",
       "      <td>228</td>\n",
       "      <td>2024-01-09</td>\n",
       "      <td>Electronics</td>\n",
       "      <td>3.8</td>\n",
       "    </tr>\n",
       "    <tr>\n",
       "      <th>9</th>\n",
       "      <td>174</td>\n",
       "      <td>1010</td>\n",
       "      <td>112</td>\n",
       "      <td>2024-01-10</td>\n",
       "      <td>Sports</td>\n",
       "      <td>2.6</td>\n",
       "    </tr>\n",
       "  </tbody>\n",
       "</table>\n",
       "</div>"
      ],
      "text/plain": [
       "   customer_id_legacy  transaction_id  purchase_amount purchase_date  \\\n",
       "0                 151            1001              408    2024-01-01   \n",
       "1                 192            1002              332    2024-01-02   \n",
       "2                 114            1003              442    2024-01-03   \n",
       "3                 171            1004              256    2024-01-04   \n",
       "4                 160            1005               64    2024-01-05   \n",
       "5                 120            1006              395    2024-01-06   \n",
       "6                 182            1007               91    2024-01-07   \n",
       "7                 186            1008              429    2024-01-08   \n",
       "8                 174            1009              228    2024-01-09   \n",
       "9                 174            1010              112    2024-01-10   \n",
       "\n",
       "  product_category  customer_rating  \n",
       "0           Sports              2.3  \n",
       "1      Electronics              4.2  \n",
       "2      Electronics              2.1  \n",
       "3         Clothing              2.8  \n",
       "4         Clothing              1.3  \n",
       "5        Groceries              1.1  \n",
       "6           Sports              4.9  \n",
       "7         Clothing              4.3  \n",
       "8      Electronics              3.8  \n",
       "9           Sports              2.6  "
      ]
     },
     "execution_count": 3,
     "metadata": {},
     "output_type": "execute_result"
    }
   ],
   "source": [
    "df.head(10)"
   ]
  },
  {
   "cell_type": "code",
   "execution_count": 4,
   "metadata": {
    "colab": {
     "base_uri": "https://localhost:8080/",
     "height": 272
    },
    "id": "Tjv-XD7dHivK",
    "outputId": "8e331417-e01d-4e7e-d789-263088b86f09"
   },
   "outputs": [
    {
     "data": {
      "text/plain": [
       "customer_id_legacy      int64\n",
       "transaction_id          int64\n",
       "purchase_amount         int64\n",
       "purchase_date          object\n",
       "product_category       object\n",
       "customer_rating       float64\n",
       "dtype: object"
      ]
     },
     "execution_count": 4,
     "metadata": {},
     "output_type": "execute_result"
    }
   ],
   "source": [
    "df.dtypes"
   ]
  },
  {
   "cell_type": "code",
   "execution_count": 5,
   "metadata": {
    "colab": {
     "base_uri": "https://localhost:8080/"
    },
    "id": "j-EkqYlQHj0i",
    "outputId": "3679fb5d-7c1f-4fad-8c04-e4777cc386a1"
   },
   "outputs": [
    {
     "name": "stdout",
     "output_type": "stream",
     "text": [
      "<class 'pandas.core.frame.DataFrame'>\n",
      "RangeIndex: 150 entries, 0 to 149\n",
      "Data columns (total 6 columns):\n",
      " #   Column              Non-Null Count  Dtype  \n",
      "---  ------              --------------  -----  \n",
      " 0   customer_id_legacy  150 non-null    int64  \n",
      " 1   transaction_id      150 non-null    int64  \n",
      " 2   purchase_amount     150 non-null    int64  \n",
      " 3   purchase_date       150 non-null    object \n",
      " 4   product_category    150 non-null    object \n",
      " 5   customer_rating     140 non-null    float64\n",
      "dtypes: float64(1), int64(3), object(2)\n",
      "memory usage: 7.2+ KB\n"
     ]
    }
   ],
   "source": [
    "df.info()"
   ]
  },
  {
   "cell_type": "code",
   "execution_count": 6,
   "metadata": {
    "colab": {
     "base_uri": "https://localhost:8080/",
     "height": 300
    },
    "id": "xuLIMKJNHmai",
    "outputId": "5277abca-8600-4947-b60c-dfef7c674481"
   },
   "outputs": [
    {
     "data": {
      "text/html": [
       "<div>\n",
       "<style scoped>\n",
       "    .dataframe tbody tr th:only-of-type {\n",
       "        vertical-align: middle;\n",
       "    }\n",
       "\n",
       "    .dataframe tbody tr th {\n",
       "        vertical-align: top;\n",
       "    }\n",
       "\n",
       "    .dataframe thead th {\n",
       "        text-align: right;\n",
       "    }\n",
       "</style>\n",
       "<table border=\"1\" class=\"dataframe\">\n",
       "  <thead>\n",
       "    <tr style=\"text-align: right;\">\n",
       "      <th></th>\n",
       "      <th>customer_id_legacy</th>\n",
       "      <th>transaction_id</th>\n",
       "      <th>purchase_amount</th>\n",
       "      <th>customer_rating</th>\n",
       "    </tr>\n",
       "  </thead>\n",
       "  <tbody>\n",
       "    <tr>\n",
       "      <th>count</th>\n",
       "      <td>150.000000</td>\n",
       "      <td>150.000000</td>\n",
       "      <td>150.000000</td>\n",
       "      <td>140.00000</td>\n",
       "    </tr>\n",
       "    <tr>\n",
       "      <th>mean</th>\n",
       "      <td>148.760000</td>\n",
       "      <td>1075.500000</td>\n",
       "      <td>280.780000</td>\n",
       "      <td>2.98500</td>\n",
       "    </tr>\n",
       "    <tr>\n",
       "      <th>std</th>\n",
       "      <td>30.046425</td>\n",
       "      <td>43.445368</td>\n",
       "      <td>121.329595</td>\n",
       "      <td>1.20699</td>\n",
       "    </tr>\n",
       "    <tr>\n",
       "      <th>min</th>\n",
       "      <td>100.000000</td>\n",
       "      <td>1001.000000</td>\n",
       "      <td>51.000000</td>\n",
       "      <td>1.00000</td>\n",
       "    </tr>\n",
       "    <tr>\n",
       "      <th>25%</th>\n",
       "      <td>121.250000</td>\n",
       "      <td>1038.250000</td>\n",
       "      <td>179.000000</td>\n",
       "      <td>1.95000</td>\n",
       "    </tr>\n",
       "    <tr>\n",
       "      <th>50%</th>\n",
       "      <td>150.500000</td>\n",
       "      <td>1075.500000</td>\n",
       "      <td>274.000000</td>\n",
       "      <td>3.00000</td>\n",
       "    </tr>\n",
       "    <tr>\n",
       "      <th>75%</th>\n",
       "      <td>174.750000</td>\n",
       "      <td>1112.750000</td>\n",
       "      <td>388.500000</td>\n",
       "      <td>4.00000</td>\n",
       "    </tr>\n",
       "    <tr>\n",
       "      <th>max</th>\n",
       "      <td>199.000000</td>\n",
       "      <td>1150.000000</td>\n",
       "      <td>495.000000</td>\n",
       "      <td>5.00000</td>\n",
       "    </tr>\n",
       "  </tbody>\n",
       "</table>\n",
       "</div>"
      ],
      "text/plain": [
       "       customer_id_legacy  transaction_id  purchase_amount  customer_rating\n",
       "count          150.000000      150.000000       150.000000        140.00000\n",
       "mean           148.760000     1075.500000       280.780000          2.98500\n",
       "std             30.046425       43.445368       121.329595          1.20699\n",
       "min            100.000000     1001.000000        51.000000          1.00000\n",
       "25%            121.250000     1038.250000       179.000000          1.95000\n",
       "50%            150.500000     1075.500000       274.000000          3.00000\n",
       "75%            174.750000     1112.750000       388.500000          4.00000\n",
       "max            199.000000     1150.000000       495.000000          5.00000"
      ]
     },
     "execution_count": 6,
     "metadata": {},
     "output_type": "execute_result"
    }
   ],
   "source": [
    "df.describe()"
   ]
  },
  {
   "cell_type": "markdown",
   "metadata": {
    "id": "fBH5ZhLdIYZY"
   },
   "source": [
    "#### Data Cleaning & Handling Missing Values with Mean, Median, Mode Imputation"
   ]
  },
  {
   "cell_type": "code",
   "execution_count": 7,
   "metadata": {
    "colab": {
     "base_uri": "https://localhost:8080/",
     "height": 272
    },
    "id": "infZvqY_IXLG",
    "outputId": "ed064d81-84ba-466d-dcaf-d42a19a313d1"
   },
   "outputs": [
    {
     "data": {
      "text/plain": [
       "customer_id_legacy     0\n",
       "transaction_id         0\n",
       "purchase_amount        0\n",
       "purchase_date          0\n",
       "product_category       0\n",
       "customer_rating       10\n",
       "dtype: int64"
      ]
     },
     "execution_count": 7,
     "metadata": {},
     "output_type": "execute_result"
    }
   ],
   "source": [
    "df.isnull().sum()"
   ]
  },
  {
   "cell_type": "code",
   "execution_count": 8,
   "metadata": {
    "colab": {
     "base_uri": "https://localhost:8080/"
    },
    "id": "et8DDaHmIdnx",
    "outputId": "9b885f55-9a58-49ad-c01c-4bff4076b98f"
   },
   "outputs": [
    {
     "name": "stderr",
     "output_type": "stream",
     "text": [
      "C:\\Users\\obolo\\AppData\\Local\\Temp\\ipykernel_19060\\4027376506.py:4: FutureWarning: A value is trying to be set on a copy of a DataFrame or Series through chained assignment using an inplace method.\n",
      "The behavior will change in pandas 3.0. This inplace method will never work because the intermediate object on which we are setting values always behaves as a copy.\n",
      "\n",
      "For example, when doing 'df[col].method(value, inplace=True)', try using 'df.method({col: value}, inplace=True)' or df[col] = df[col].method(value) instead, to perform the operation inplace on the original object.\n",
      "\n",
      "\n",
      "  df[col].fillna(df[col].median(), inplace=True)\n",
      "C:\\Users\\obolo\\AppData\\Local\\Temp\\ipykernel_19060\\4027376506.py:4: FutureWarning: A value is trying to be set on a copy of a DataFrame or Series through chained assignment using an inplace method.\n",
      "The behavior will change in pandas 3.0. This inplace method will never work because the intermediate object on which we are setting values always behaves as a copy.\n",
      "\n",
      "For example, when doing 'df[col].method(value, inplace=True)', try using 'df.method({col: value}, inplace=True)' or df[col] = df[col].method(value) instead, to perform the operation inplace on the original object.\n",
      "\n",
      "\n",
      "  df[col].fillna(df[col].median(), inplace=True)\n",
      "C:\\Users\\obolo\\AppData\\Local\\Temp\\ipykernel_19060\\4027376506.py:4: FutureWarning: A value is trying to be set on a copy of a DataFrame or Series through chained assignment using an inplace method.\n",
      "The behavior will change in pandas 3.0. This inplace method will never work because the intermediate object on which we are setting values always behaves as a copy.\n",
      "\n",
      "For example, when doing 'df[col].method(value, inplace=True)', try using 'df.method({col: value}, inplace=True)' or df[col] = df[col].method(value) instead, to perform the operation inplace on the original object.\n",
      "\n",
      "\n",
      "  df[col].fillna(df[col].median(), inplace=True)\n",
      "C:\\Users\\obolo\\AppData\\Local\\Temp\\ipykernel_19060\\4027376506.py:4: FutureWarning: A value is trying to be set on a copy of a DataFrame or Series through chained assignment using an inplace method.\n",
      "The behavior will change in pandas 3.0. This inplace method will never work because the intermediate object on which we are setting values always behaves as a copy.\n",
      "\n",
      "For example, when doing 'df[col].method(value, inplace=True)', try using 'df.method({col: value}, inplace=True)' or df[col] = df[col].method(value) instead, to perform the operation inplace on the original object.\n",
      "\n",
      "\n",
      "  df[col].fillna(df[col].median(), inplace=True)\n",
      "C:\\Users\\obolo\\AppData\\Local\\Temp\\ipykernel_19060\\4027376506.py:6: FutureWarning: A value is trying to be set on a copy of a DataFrame or Series through chained assignment using an inplace method.\n",
      "The behavior will change in pandas 3.0. This inplace method will never work because the intermediate object on which we are setting values always behaves as a copy.\n",
      "\n",
      "For example, when doing 'df[col].method(value, inplace=True)', try using 'df.method({col: value}, inplace=True)' or df[col] = df[col].method(value) instead, to perform the operation inplace on the original object.\n",
      "\n",
      "\n",
      "  df[col].fillna(df[col].mode()[0], inplace=True)\n"
     ]
    }
   ],
   "source": [
    "numerical_cols = df.select_dtypes(include=['float64', 'int64']).columns\n",
    "categorical_cols = df.select_dtypes(include=['object']).columns\n",
    "for col in numerical_cols:\n",
    "    df[col].fillna(df[col].median(), inplace=True)\n",
    "for col in categorical_cols:\n",
    "    df[col].fillna(df[col].mode()[0], inplace=True)\n",
    "imputer = KNNImputer(n_neighbors=5)\n",
    "df[numerical_cols] = imputer.fit_transform(df[numerical_cols])"
   ]
  },
  {
   "cell_type": "code",
   "execution_count": 9,
   "metadata": {
    "colab": {
     "base_uri": "https://localhost:8080/",
     "height": 206
    },
    "id": "-ABcD6MIIgiE",
    "outputId": "5f435cef-33ae-4651-8d99-827aeefb73eb"
   },
   "outputs": [
    {
     "data": {
      "text/html": [
       "<div>\n",
       "<style scoped>\n",
       "    .dataframe tbody tr th:only-of-type {\n",
       "        vertical-align: middle;\n",
       "    }\n",
       "\n",
       "    .dataframe tbody tr th {\n",
       "        vertical-align: top;\n",
       "    }\n",
       "\n",
       "    .dataframe thead th {\n",
       "        text-align: right;\n",
       "    }\n",
       "</style>\n",
       "<table border=\"1\" class=\"dataframe\">\n",
       "  <thead>\n",
       "    <tr style=\"text-align: right;\">\n",
       "      <th></th>\n",
       "      <th>customer_id_legacy</th>\n",
       "      <th>transaction_id</th>\n",
       "      <th>purchase_amount</th>\n",
       "      <th>purchase_date</th>\n",
       "      <th>product_category</th>\n",
       "      <th>customer_rating</th>\n",
       "    </tr>\n",
       "  </thead>\n",
       "  <tbody>\n",
       "    <tr>\n",
       "      <th>0</th>\n",
       "      <td>151.0</td>\n",
       "      <td>1001.0</td>\n",
       "      <td>408.0</td>\n",
       "      <td>2024-01-01</td>\n",
       "      <td>Sports</td>\n",
       "      <td>2.3</td>\n",
       "    </tr>\n",
       "    <tr>\n",
       "      <th>1</th>\n",
       "      <td>192.0</td>\n",
       "      <td>1002.0</td>\n",
       "      <td>332.0</td>\n",
       "      <td>2024-01-02</td>\n",
       "      <td>Electronics</td>\n",
       "      <td>4.2</td>\n",
       "    </tr>\n",
       "    <tr>\n",
       "      <th>2</th>\n",
       "      <td>114.0</td>\n",
       "      <td>1003.0</td>\n",
       "      <td>442.0</td>\n",
       "      <td>2024-01-03</td>\n",
       "      <td>Electronics</td>\n",
       "      <td>2.1</td>\n",
       "    </tr>\n",
       "    <tr>\n",
       "      <th>3</th>\n",
       "      <td>171.0</td>\n",
       "      <td>1004.0</td>\n",
       "      <td>256.0</td>\n",
       "      <td>2024-01-04</td>\n",
       "      <td>Clothing</td>\n",
       "      <td>2.8</td>\n",
       "    </tr>\n",
       "    <tr>\n",
       "      <th>4</th>\n",
       "      <td>160.0</td>\n",
       "      <td>1005.0</td>\n",
       "      <td>64.0</td>\n",
       "      <td>2024-01-05</td>\n",
       "      <td>Clothing</td>\n",
       "      <td>1.3</td>\n",
       "    </tr>\n",
       "  </tbody>\n",
       "</table>\n",
       "</div>"
      ],
      "text/plain": [
       "   customer_id_legacy  transaction_id  purchase_amount purchase_date  \\\n",
       "0               151.0          1001.0            408.0    2024-01-01   \n",
       "1               192.0          1002.0            332.0    2024-01-02   \n",
       "2               114.0          1003.0            442.0    2024-01-03   \n",
       "3               171.0          1004.0            256.0    2024-01-04   \n",
       "4               160.0          1005.0             64.0    2024-01-05   \n",
       "\n",
       "  product_category  customer_rating  \n",
       "0           Sports              2.3  \n",
       "1      Electronics              4.2  \n",
       "2      Electronics              2.1  \n",
       "3         Clothing              2.8  \n",
       "4         Clothing              1.3  "
      ]
     },
     "execution_count": 9,
     "metadata": {},
     "output_type": "execute_result"
    }
   ],
   "source": [
    "df.head()"
   ]
  },
  {
   "cell_type": "code",
   "execution_count": 10,
   "metadata": {
    "colab": {
     "base_uri": "https://localhost:8080/"
    },
    "id": "MS6HIbatIoKC",
    "outputId": "aa371746-cdb1-4e9e-87d1-d67fc580a219"
   },
   "outputs": [
    {
     "name": "stdout",
     "output_type": "stream",
     "text": [
      "customer_id_legacy    0\n",
      "transaction_id        0\n",
      "purchase_amount       0\n",
      "purchase_date         0\n",
      "product_category      0\n",
      "customer_rating       0\n",
      "dtype: int64\n"
     ]
    }
   ],
   "source": [
    "# Step 3: Verify missing values after basic imputation\n",
    "print(df.isnull().sum())"
   ]
  },
  {
   "cell_type": "code",
   "execution_count": 11,
   "metadata": {
    "id": "WInjDNQ_IrE7"
   },
   "outputs": [],
   "source": [
    "target_distribution = df['product_category'].value_counts()"
   ]
  },
  {
   "cell_type": "code",
   "execution_count": 12,
   "metadata": {
    "colab": {
     "base_uri": "https://localhost:8080/"
    },
    "id": "koqhc1vdIuhk",
    "outputId": "d72934be-ed57-40d6-9064-d9081c005abd"
   },
   "outputs": [
    {
     "name": "stdout",
     "output_type": "stream",
     "text": [
      "product_category\n",
      "Sports         35\n",
      "Electronics    34\n",
      "Clothing       28\n",
      "Groceries      28\n",
      "Books          25\n",
      "Name: count, dtype: int64\n"
     ]
    }
   ],
   "source": [
    "print(target_distribution)"
   ]
  },
  {
   "cell_type": "code",
   "execution_count": 13,
   "metadata": {
    "colab": {
     "base_uri": "https://localhost:8080/",
     "height": 487
    },
    "id": "eQOAtdwFIxTP",
    "outputId": "017f742f-cdc6-40fc-a2f5-3eaf4c83e8da"
   },
   "outputs": [
    {
     "data": {
      "image/png": "[encoded data removed]",
      "text/plain": [
       "<Figure size 800x500 with 1 Axes>"
      ]
     },
     "metadata": {},
     "output_type": "display_data"
    }
   ],
   "source": [
    "# Visualize the class distribution\n",
    "plt.figure(figsize=(8, 5))\n",
    "sns.countplot(x='product_category', data=df)\n",
    "plt.title('Class Distribution of Purchase Category')\n",
    "plt.xlabel('Purchase Category')\n",
    "plt.ylabel('Count')\n",
    "plt.show()"
   ]
  },
  {
   "cell_type": "markdown",
   "metadata": {
    "id": "xd9eBz58JkRJ"
   },
   "source": [
    "#### Data Augmentation Strategies"
   ]
  },
  {
   "cell_type": "code",
   "execution_count": 14,
   "metadata": {
    "id": "tYC6ZJtoI03A"
   },
   "outputs": [],
   "source": [
    "noise = np.random.normal(0, 0.1 * df['purchase_amount'].std(), size=df['purchase_amount'].shape)\n",
    "df['purchase_amount_noisy'] = df['purchase_amount'] + noise\n",
    "df['purchase_amount_noisy'] = df['purchase_amount_noisy'].clip(lower=0)"
   ]
  },
  {
   "cell_type": "code",
   "execution_count": 15,
   "metadata": {
    "colab": {
     "base_uri": "https://localhost:8080/",
     "height": 303
    },
    "id": "fWGz99twJrIq",
    "outputId": "33612374-0cb4-4164-e7e9-893e8543d7ad"
   },
   "outputs": [
    {
     "data": {
      "text/plain": [
       "customer_id_legacy       0\n",
       "transaction_id           0\n",
       "purchase_amount          0\n",
       "purchase_date            0\n",
       "product_category         0\n",
       "customer_rating          0\n",
       "purchase_amount_noisy    0\n",
       "dtype: int64"
      ]
     },
     "execution_count": 15,
     "metadata": {},
     "output_type": "execute_result"
    }
   ],
   "source": [
    "df.isnull().sum()"
   ]
  },
  {
   "cell_type": "code",
   "execution_count": 16,
   "metadata": {
    "colab": {
     "base_uri": "https://localhost:8080/"
    },
    "id": "8A3TB89hJt_U",
    "outputId": "0880fecf-f4ac-41c2-80cd-17a9601b8e38"
   },
   "outputs": [
    {
     "data": {
      "text/plain": [
       "(150, 7)"
      ]
     },
     "execution_count": 16,
     "metadata": {},
     "output_type": "execute_result"
    }
   ],
   "source": [
    "df.shape"
   ]
  },
  {
   "cell_type": "code",
   "execution_count": 17,
   "metadata": {
    "colab": {
     "base_uri": "https://localhost:8080/"
    },
    "id": "5ws1JirHJwXH",
    "outputId": "d7ff433d-6c57-4fa4-9793-07a4114057dd"
   },
   "outputs": [
    {
     "name": "stdout",
     "output_type": "stream",
     "text": [
      "\n",
      "Shape after SMOTE: (175, 7)\n",
      "product_category\n",
      "Sports         35\n",
      "Electronics    35\n",
      "Clothing       35\n",
      "Groceries      35\n",
      "Books          35\n",
      "Name: count, dtype: int64\n",
      "customer_id_legacy       float64\n",
      "transaction_id           float64\n",
      "purchase_amount          float64\n",
      "customer_rating          float64\n",
      "purchase_amount_noisy    float64\n",
      "purchase_date             object\n",
      "product_category          object\n",
      "dtype: object\n"
     ]
    }
   ],
   "source": [
    "# Apply SMOTE to balance the dataset\n",
    "numerical_cols = df.select_dtypes(include=['float64', 'int64']).columns.tolist()\n",
    "numerical_cols_for_smote = [col for col in numerical_cols if col != 'purchase_date']\n",
    "X = df[numerical_cols_for_smote]\n",
    "y = df['product_category']\n",
    "smote = SMOTE(random_state=42)\n",
    "X_resampled, y_resampled = smote.fit_resample(X, y)\n",
    "\n",
    "# Create a DataFrame with resampled data, adding back 'purchase_date' and 'product_category'\n",
    "df_resampled = pd.DataFrame(X_resampled, columns=numerical_cols_for_smote)\n",
    "# Instead of assigning original values, repeat the purchase_date values to match the new length\n",
    "df_resampled['purchase_date'] = np.tile(df['purchase_date'].values, int(np.ceil(len(df_resampled) / len(df))))[:len(df_resampled)]\n",
    "df_resampled['product_category'] = y_resampled\n",
    "\n",
    "print(\"\\nShape after SMOTE:\", df_resampled.shape)\n",
    "print(df_resampled['product_category'].value_counts())\n",
    "print(df_resampled.dtypes)"
   ]
  },
  {
   "cell_type": "code",
   "execution_count": 18,
   "metadata": {
    "colab": {
     "base_uri": "https://localhost:8080/",
     "height": 206
    },
    "id": "GH5E5XkHJzZJ",
    "outputId": "f4c4aa36-50ed-4b3c-f5ab-494f5db2d4de"
   },
   "outputs": [
    {
     "data": {
      "text/html": [
       "<div>\n",
       "<style scoped>\n",
       "    .dataframe tbody tr th:only-of-type {\n",
       "        vertical-align: middle;\n",
       "    }\n",
       "\n",
       "    .dataframe tbody tr th {\n",
       "        vertical-align: top;\n",
       "    }\n",
       "\n",
       "    .dataframe thead th {\n",
       "        text-align: right;\n",
       "    }\n",
       "</style>\n",
       "<table border=\"1\" class=\"dataframe\">\n",
       "  <thead>\n",
       "    <tr style=\"text-align: right;\">\n",
       "      <th></th>\n",
       "      <th>customer_id_legacy</th>\n",
       "      <th>transaction_id</th>\n",
       "      <th>purchase_amount</th>\n",
       "      <th>customer_rating</th>\n",
       "      <th>purchase_amount_noisy</th>\n",
       "      <th>purchase_date</th>\n",
       "      <th>product_category</th>\n",
       "    </tr>\n",
       "  </thead>\n",
       "  <tbody>\n",
       "    <tr>\n",
       "      <th>0</th>\n",
       "      <td>151.0</td>\n",
       "      <td>1001.0</td>\n",
       "      <td>408.0</td>\n",
       "      <td>2.3</td>\n",
       "      <td>428.517715</td>\n",
       "      <td>2024-01-01</td>\n",
       "      <td>Sports</td>\n",
       "    </tr>\n",
       "    <tr>\n",
       "      <th>1</th>\n",
       "      <td>192.0</td>\n",
       "      <td>1002.0</td>\n",
       "      <td>332.0</td>\n",
       "      <td>4.2</td>\n",
       "      <td>330.387670</td>\n",
       "      <td>2024-01-02</td>\n",
       "      <td>Electronics</td>\n",
       "    </tr>\n",
       "    <tr>\n",
       "      <th>2</th>\n",
       "      <td>114.0</td>\n",
       "      <td>1003.0</td>\n",
       "      <td>442.0</td>\n",
       "      <td>2.1</td>\n",
       "      <td>446.410553</td>\n",
       "      <td>2024-01-03</td>\n",
       "      <td>Electronics</td>\n",
       "    </tr>\n",
       "    <tr>\n",
       "      <th>3</th>\n",
       "      <td>171.0</td>\n",
       "      <td>1004.0</td>\n",
       "      <td>256.0</td>\n",
       "      <td>2.8</td>\n",
       "      <td>266.064937</td>\n",
       "      <td>2024-01-04</td>\n",
       "      <td>Clothing</td>\n",
       "    </tr>\n",
       "    <tr>\n",
       "      <th>4</th>\n",
       "      <td>160.0</td>\n",
       "      <td>1005.0</td>\n",
       "      <td>64.0</td>\n",
       "      <td>1.3</td>\n",
       "      <td>67.781934</td>\n",
       "      <td>2024-01-05</td>\n",
       "      <td>Clothing</td>\n",
       "    </tr>\n",
       "  </tbody>\n",
       "</table>\n",
       "</div>"
      ],
      "text/plain": [
       "   customer_id_legacy  transaction_id  purchase_amount  customer_rating  \\\n",
       "0               151.0          1001.0            408.0              2.3   \n",
       "1               192.0          1002.0            332.0              4.2   \n",
       "2               114.0          1003.0            442.0              2.1   \n",
       "3               171.0          1004.0            256.0              2.8   \n",
       "4               160.0          1005.0             64.0              1.3   \n",
       "\n",
       "   purchase_amount_noisy purchase_date product_category  \n",
       "0             428.517715    2024-01-01           Sports  \n",
       "1             330.387670    2024-01-02      Electronics  \n",
       "2             446.410553    2024-01-03      Electronics  \n",
       "3             266.064937    2024-01-04         Clothing  \n",
       "4              67.781934    2024-01-05         Clothing  "
      ]
     },
     "execution_count": 18,
     "metadata": {},
     "output_type": "execute_result"
    }
   ],
   "source": [
    "df_resampled.head()"
   ]
  },
  {
   "cell_type": "code",
   "execution_count": 19,
   "metadata": {
    "colab": {
     "base_uri": "https://localhost:8080/"
    },
    "id": "z0UHXqlpJ2i-",
    "outputId": "f91e3d70-8a3b-43a8-cf10-f656b9dbe829"
   },
   "outputs": [
    {
     "name": "stdout",
     "output_type": "stream",
     "text": [
      "Skewness of customer_id_legacy: -0.17155923405839216\n",
      "Skewness of transaction_id: -0.02713482811990847\n",
      "Skewness of purchase_amount: -0.0016447810752113167\n",
      "Skewness of customer_rating: -0.09052955582382446\n",
      "Skewness of purchase_amount_noisy: -0.0015385598663650783\n",
      "\n",
      "DataFrame After Feature Transformation:\n",
      "   customer_id_legacy  transaction_id  purchase_amount  customer_rating  \\\n",
      "0               151.0          1001.0            408.0              2.3   \n",
      "1               192.0          1002.0            332.0              4.2   \n",
      "2               114.0          1003.0            442.0              2.1   \n",
      "3               171.0          1004.0            256.0              2.8   \n",
      "4               160.0          1005.0             64.0              1.3   \n",
      "\n",
      "   purchase_amount_noisy purchase_date product_category  \n",
      "0             428.517715    2024-01-01           Sports  \n",
      "1             330.387670    2024-01-02      Electronics  \n",
      "2             446.410553    2024-01-03      Electronics  \n",
      "3             266.064937    2024-01-04         Clothing  \n",
      "4              67.781934    2024-01-05         Clothing  \n"
     ]
    }
   ],
   "source": [
    "# Step 3.2: Feature Value Transformation\n",
    "for col in numerical_cols:\n",
    "    skewness = df_resampled[col].skew()\n",
    "    print(f\"Skewness of {col}: {skewness}\")\n",
    "    if skewness > 1:\n",
    "        df_resampled[f'{col}_log'] = np.log1p(df_resampled[col])\n",
    "\n",
    "# Display the updated DataFrame\n",
    "print(\"\\nDataFrame After Feature Transformation:\")\n",
    "print(df_resampled.head())"
   ]
  },
  {
   "cell_type": "code",
   "execution_count": 20,
   "metadata": {
    "colab": {
     "base_uri": "https://localhost:8080/"
    },
    "id": "D-3WpdiDJ53i",
    "outputId": "c65c7fcb-b3b9-4989-8faf-3791f5c7dd7a"
   },
   "outputs": [
    {
     "name": "stdout",
     "output_type": "stream",
     "text": [
      "\n",
      "Shape of Augmented Dataset: (210, 7)\n",
      "\n",
      "Class Distribution After Data Expansion:\n",
      "product_category\n",
      "Sports         42\n",
      "Electronics    42\n",
      "Clothing       42\n",
      "Groceries      42\n",
      "Books          42\n",
      "Name: count, dtype: int64\n"
     ]
    }
   ],
   "source": [
    "# Step 3.3: Create 'purchase_amount_noisy' column by adding random noise to 'purchase_amount'\n",
    "df_resampled['purchase_amount_noisy'] = df_resampled['purchase_amount'] * np.random.uniform(0.9, 1.1, size=len(df_resampled))\n",
    "\n",
    "# Step 3.4: Data Expansion\n",
    "augmented_data = []\n",
    "target_samples_per_class = 42  # Desired number of samples per class\n",
    "\n",
    "# Group the data by 'product_category' and generate synthetic samples for each group\n",
    "for category in df_resampled['product_category'].unique():\n",
    "    category_data = df_resampled[df_resampled['product_category'] == category]\n",
    "    current_samples = len(category_data)\n",
    "\n",
    "    # Calculate the number of synthetic samples needed to reach the target\n",
    "    num_synthetic = max(0, target_samples_per_class - current_samples)\n",
    "\n",
    "    for _ in range(num_synthetic):\n",
    "        synthetic_row = category_data.sample(n=1).iloc[0].copy()\n",
    "        synthetic_row['purchase_amount'] *= np.random.uniform(0.9, 1.1)\n",
    "        synthetic_row['purchase_amount_noisy'] *= np.random.uniform(0.9, 1.1)\n",
    "        synthetic_row['transaction_id'] = df_resampled['transaction_id'].max() + 1\n",
    "        augmented_data.append(synthetic_row)\n",
    "\n",
    "# Combine original and augmented data\n",
    "df_augmented = pd.concat([df_resampled, pd.DataFrame(augmented_data)], ignore_index=True)\n",
    "\n",
    "# Check the shape of the augmented dataset\n",
    "print(\"\\nShape of Augmented Dataset:\", df_augmented.shape)\n",
    "print(\"\\nClass Distribution After Data Expansion:\")\n",
    "print(df_augmented['product_category'].value_counts())"
   ]
  },
  {
   "cell_type": "code",
   "execution_count": 21,
   "metadata": {
    "id": "tlif6xKzJ9eF"
   },
   "outputs": [],
   "source": [
    "# Step 4: Export the Augmented Data\n",
    "df_augmented.to_csv('derived_datasets/customer_transactions_augmented.csv', index=False)"
   ]
  },
  {
   "cell_type": "code",
   "execution_count": 22,
   "metadata": {
    "colab": {
     "base_uri": "https://localhost:8080/"
    },
    "id": "QHH330TMKBR_",
    "outputId": "0c820d94-5f57-4230-acb0-e7ee0075744f"
   },
   "outputs": [
    {
     "name": "stdout",
     "output_type": "stream",
     "text": [
      "customer_id_legacy       0\n",
      "transaction_id           0\n",
      "purchase_amount          0\n",
      "purchase_date            0\n",
      "product_category         0\n",
      "customer_rating          0\n",
      "purchase_amount_noisy    0\n",
      "dtype: int64\n"
     ]
    }
   ],
   "source": [
    "print(df.isnull().sum())"
   ]
  }
 ],
 "metadata": {
  "colab": {
   "provenance": []
  },
  "kernelspec": {
   "display_name": "Python 3 (ipykernel)",
   "language": "python",
   "name": "python3"
  },
  "language_info": {
   "codemirror_mode": {
    "name": "ipython",
    "version": 3
   },
   "file_extension": ".py",
   "mimetype": "text/x-python",
   "name": "python",
   "nbconvert_exporter": "python",
   "pygments_lexer": "ipython3",
   "version": "3.12.4"
  }
 },
 "nbformat": 4,
 "nbformat_minor": 4
}
