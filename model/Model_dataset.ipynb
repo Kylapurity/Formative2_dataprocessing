{
  "nbformat": 4,
  "nbformat_minor": 0,
  "metadata": {
    "colab": {
      "provenance": []
    },
    "kernelspec": {
      "name": "python3",
      "display_name": "Python 3"
    },
    "language_info": {
      "name": "python"
    }
  },
  "cells": [
    {
      "cell_type": "code",
      "execution_count": null,
      "metadata": {
        "id": "2ytAct5QCf6Q"
      },
      "outputs": [],
      "source": [
        "import pandas as pd\n",
        "import numpy as np\n",
        "from sklearn.model_selection import train_test_split\n",
        "from sklearn.linear_model import LinearRegression\n",
        "from sklearn.ensemble import RandomForestRegressor\n",
        "import matplotlib.pyplot as plt\n",
        "from sklearn.metrics import mean_absolute_error, mean_squared_error, r2_score\n",
        "import joblib"
      ]
    },
    {
      "cell_type": "code",
      "source": [
        "final_data=pd.read_csv(\"/content/final_dataset_ready_11.csv\")"
      ],
      "metadata": {
        "id": "_jTd1oZHFCLf"
      },
      "execution_count": null,
      "outputs": []
    },
    {
      "cell_type": "code",
      "source": [
        "final_data.head()"
      ],
      "metadata": {
        "id": "GTCpefObGDIa",
        "colab": {
          "base_uri": "https://localhost:8080/",
          "height": 226
        },
        "outputId": "a080e4f2-8fb1-448c-93cf-7826b29a4de3"
      },
      "execution_count": null,
      "outputs": [
        {
          "output_type": "execute_result",
          "data": {
            "text/plain": [
              "   purchase_amount  customer_rating  engagement_score  \\\n",
              "0              408         2.215163              70.0   \n",
              "1              332         4.016621              52.0   \n",
              "2              442         1.984167              78.0   \n",
              "3              256         2.586330              78.0   \n",
              "4               64         1.544930              78.0   \n",
              "\n",
              "   purchase_interest_score  customer_engagement_score  monthly_total_spend  \\\n",
              "0                      3.3                      43.32                  408   \n",
              "1                      4.9                      33.16                  332   \n",
              "2                      3.6                      48.24                  442   \n",
              "3                      3.6                      48.24                  256   \n",
              "4                      3.6                      48.24                   64   \n",
              "\n",
              "   monthly_avg_spend  avg_spent_last_3  transaction_id  customer_id_legacy  \\\n",
              "0              408.0             408.0            1001                 151   \n",
              "1              332.0             332.0            1002                 192   \n",
              "2              442.0             442.0            1003                 114   \n",
              "3              256.0             256.0            1004                 171   \n",
              "4               64.0              64.0            1005                 160   \n",
              "\n",
              "  purchase_date social_media_platform review_sentiment  \n",
              "0    2024-01-15              Facebook         Negative  \n",
              "1    2024-01-28             Instagram         Positive  \n",
              "2    2024-01-29               Unknown          Neutral  \n",
              "3    2024-02-25               Unknown          Neutral  \n",
              "4    2024-01-29               Unknown          Neutral  "
            ],
            "text/html": [
              "\n",
              "  <div id=\"df-89ce3a9a-8841-4d34-bd73-2a27658d1c53\" class=\"colab-df-container\">\n",
              "    <div>\n",
              "<style scoped>\n",
              "    .dataframe tbody tr th:only-of-type {\n",
              "        vertical-align: middle;\n",
              "    }\n",
              "\n",
              "    .dataframe tbody tr th {\n",
              "        vertical-align: top;\n",
              "    }\n",
              "\n",
              "    .dataframe thead th {\n",
              "        text-align: right;\n",
              "    }\n",
              "</style>\n",
              "<table border=\"1\" class=\"dataframe\">\n",
              "  <thead>\n",
              "    <tr style=\"text-align: right;\">\n",
              "      <th></th>\n",
              "      <th>purchase_amount</th>\n",
              "      <th>customer_rating</th>\n",
              "      <th>engagement_score</th>\n",
              "      <th>purchase_interest_score</th>\n",
              "      <th>customer_engagement_score</th>\n",
              "      <th>monthly_total_spend</th>\n",
              "      <th>monthly_avg_spend</th>\n",
              "      <th>avg_spent_last_3</th>\n",
              "      <th>transaction_id</th>\n",
              "      <th>customer_id_legacy</th>\n",
              "      <th>purchase_date</th>\n",
              "      <th>social_media_platform</th>\n",
              "      <th>review_sentiment</th>\n",
              "    </tr>\n",
              "  </thead>\n",
              "  <tbody>\n",
              "    <tr>\n",
              "      <th>0</th>\n",
              "      <td>408</td>\n",
              "      <td>2.215163</td>\n",
              "      <td>70.0</td>\n",
              "      <td>3.3</td>\n",
              "      <td>43.32</td>\n",
              "      <td>408</td>\n",
              "      <td>408.0</td>\n",
              "      <td>408.0</td>\n",
              "      <td>1001</td>\n",
              "      <td>151</td>\n",
              "      <td>2024-01-15</td>\n",
              "      <td>Facebook</td>\n",
              "      <td>Negative</td>\n",
              "    </tr>\n",
              "    <tr>\n",
              "      <th>1</th>\n",
              "      <td>332</td>\n",
              "      <td>4.016621</td>\n",
              "      <td>52.0</td>\n",
              "      <td>4.9</td>\n",
              "      <td>33.16</td>\n",
              "      <td>332</td>\n",
              "      <td>332.0</td>\n",
              "      <td>332.0</td>\n",
              "      <td>1002</td>\n",
              "      <td>192</td>\n",
              "      <td>2024-01-28</td>\n",
              "      <td>Instagram</td>\n",
              "      <td>Positive</td>\n",
              "    </tr>\n",
              "    <tr>\n",
              "      <th>2</th>\n",
              "      <td>442</td>\n",
              "      <td>1.984167</td>\n",
              "      <td>78.0</td>\n",
              "      <td>3.6</td>\n",
              "      <td>48.24</td>\n",
              "      <td>442</td>\n",
              "      <td>442.0</td>\n",
              "      <td>442.0</td>\n",
              "      <td>1003</td>\n",
              "      <td>114</td>\n",
              "      <td>2024-01-29</td>\n",
              "      <td>Unknown</td>\n",
              "      <td>Neutral</td>\n",
              "    </tr>\n",
              "    <tr>\n",
              "      <th>3</th>\n",
              "      <td>256</td>\n",
              "      <td>2.586330</td>\n",
              "      <td>78.0</td>\n",
              "      <td>3.6</td>\n",
              "      <td>48.24</td>\n",
              "      <td>256</td>\n",
              "      <td>256.0</td>\n",
              "      <td>256.0</td>\n",
              "      <td>1004</td>\n",
              "      <td>171</td>\n",
              "      <td>2024-02-25</td>\n",
              "      <td>Unknown</td>\n",
              "      <td>Neutral</td>\n",
              "    </tr>\n",
              "    <tr>\n",
              "      <th>4</th>\n",
              "      <td>64</td>\n",
              "      <td>1.544930</td>\n",
              "      <td>78.0</td>\n",
              "      <td>3.6</td>\n",
              "      <td>48.24</td>\n",
              "      <td>64</td>\n",
              "      <td>64.0</td>\n",
              "      <td>64.0</td>\n",
              "      <td>1005</td>\n",
              "      <td>160</td>\n",
              "      <td>2024-01-29</td>\n",
              "      <td>Unknown</td>\n",
              "      <td>Neutral</td>\n",
              "    </tr>\n",
              "  </tbody>\n",
              "</table>\n",
              "</div>\n",
              "    <div class=\"colab-df-buttons\">\n",
              "\n",
              "  <div class=\"colab-df-container\">\n",
              "    <button class=\"colab-df-convert\" onclick=\"convertToInteractive('df-89ce3a9a-8841-4d34-bd73-2a27658d1c53')\"\n",
              "            title=\"Convert this dataframe to an interactive table.\"\n",
              "            style=\"display:none;\">\n",
              "\n",
              "  <svg xmlns=\"http://www.w3.org/2000/svg\" height=\"24px\" viewBox=\"0 -960 960 960\">\n",
              "    <path d=\"M120-120v-720h720v720H120Zm60-500h600v-160H180v160Zm220 220h160v-160H400v160Zm0 220h160v-160H400v160ZM180-400h160v-160H180v160Zm440 0h160v-160H620v160ZM180-180h160v-160H180v160Zm440 0h160v-160H620v160Z\"/>\n",
              "  </svg>\n",
              "    </button>\n",
              "\n",
              "  <style>\n",
              "    .colab-df-container {\n",
              "      display:flex;\n",
              "      gap: 12px;\n",
              "    }\n",
              "\n",
              "    .colab-df-convert {\n",
              "      background-color: #E8F0FE;\n",
              "      border: none;\n",
              "      border-radius: 50%;\n",
              "      cursor: pointer;\n",
              "      display: none;\n",
              "      fill: #1967D2;\n",
              "      height: 32px;\n",
              "      padding: 0 0 0 0;\n",
              "      width: 32px;\n",
              "    }\n",
              "\n",
              "    .colab-df-convert:hover {\n",
              "      background-color: #E2EBFA;\n",
              "      box-shadow: 0px 1px 2px rgba(60, 64, 67, 0.3), 0px 1px 3px 1px rgba(60, 64, 67, 0.15);\n",
              "      fill: #174EA6;\n",
              "    }\n",
              "\n",
              "    .colab-df-buttons div {\n",
              "      margin-bottom: 4px;\n",
              "    }\n",
              "\n",
              "    [theme=dark] .colab-df-convert {\n",
              "      background-color: #3B4455;\n",
              "      fill: #D2E3FC;\n",
              "    }\n",
              "\n",
              "    [theme=dark] .colab-df-convert:hover {\n",
              "      background-color: #434B5C;\n",
              "      box-shadow: 0px 1px 3px 1px rgba(0, 0, 0, 0.15);\n",
              "      filter: drop-shadow(0px 1px 2px rgba(0, 0, 0, 0.3));\n",
              "      fill: #FFFFFF;\n",
              "    }\n",
              "  </style>\n",
              "\n",
              "    <script>\n",
              "      const buttonEl =\n",
              "        document.querySelector('#df-89ce3a9a-8841-4d34-bd73-2a27658d1c53 button.colab-df-convert');\n",
              "      buttonEl.style.display =\n",
              "        google.colab.kernel.accessAllowed ? 'block' : 'none';\n",
              "\n",
              "      async function convertToInteractive(key) {\n",
              "        const element = document.querySelector('#df-89ce3a9a-8841-4d34-bd73-2a27658d1c53');\n",
              "        const dataTable =\n",
              "          await google.colab.kernel.invokeFunction('convertToInteractive',\n",
              "                                                    [key], {});\n",
              "        if (!dataTable) return;\n",
              "\n",
              "        const docLinkHtml = 'Like what you see? Visit the ' +\n",
              "          '<a target=\"_blank\" href=https://colab.research.google.com/notebooks/data_table.ipynb>data table notebook</a>'\n",
              "          + ' to learn more about interactive tables.';\n",
              "        element.innerHTML = '';\n",
              "        dataTable['output_type'] = 'display_data';\n",
              "        await google.colab.output.renderOutput(dataTable, element);\n",
              "        const docLink = document.createElement('div');\n",
              "        docLink.innerHTML = docLinkHtml;\n",
              "        element.appendChild(docLink);\n",
              "      }\n",
              "    </script>\n",
              "  </div>\n",
              "\n",
              "\n",
              "<div id=\"df-585ec18e-2ee4-4271-a23d-e247526a53ae\">\n",
              "  <button class=\"colab-df-quickchart\" onclick=\"quickchart('df-585ec18e-2ee4-4271-a23d-e247526a53ae')\"\n",
              "            title=\"Suggest charts\"\n",
              "            style=\"display:none;\">\n",
              "\n",
              "<svg xmlns=\"http://www.w3.org/2000/svg\" height=\"24px\"viewBox=\"0 0 24 24\"\n",
              "     width=\"24px\">\n",
              "    <g>\n",
              "        <path d=\"M19 3H5c-1.1 0-2 .9-2 2v14c0 1.1.9 2 2 2h14c1.1 0 2-.9 2-2V5c0-1.1-.9-2-2-2zM9 17H7v-7h2v7zm4 0h-2V7h2v10zm4 0h-2v-4h2v4z\"/>\n",
              "    </g>\n",
              "</svg>\n",
              "  </button>\n",
              "\n",
              "<style>\n",
              "  .colab-df-quickchart {\n",
              "      --bg-color: #E8F0FE;\n",
              "      --fill-color: #1967D2;\n",
              "      --hover-bg-color: #E2EBFA;\n",
              "      --hover-fill-color: #174EA6;\n",
              "      --disabled-fill-color: #AAA;\n",
              "      --disabled-bg-color: #DDD;\n",
              "  }\n",
              "\n",
              "  [theme=dark] .colab-df-quickchart {\n",
              "      --bg-color: #3B4455;\n",
              "      --fill-color: #D2E3FC;\n",
              "      --hover-bg-color: #434B5C;\n",
              "      --hover-fill-color: #FFFFFF;\n",
              "      --disabled-bg-color: #3B4455;\n",
              "      --disabled-fill-color: #666;\n",
              "  }\n",
              "\n",
              "  .colab-df-quickchart {\n",
              "    background-color: var(--bg-color);\n",
              "    border: none;\n",
              "    border-radius: 50%;\n",
              "    cursor: pointer;\n",
              "    display: none;\n",
              "    fill: var(--fill-color);\n",
              "    height: 32px;\n",
              "    padding: 0;\n",
              "    width: 32px;\n",
              "  }\n",
              "\n",
              "  .colab-df-quickchart:hover {\n",
              "    background-color: var(--hover-bg-color);\n",
              "    box-shadow: 0 1px 2px rgba(60, 64, 67, 0.3), 0 1px 3px 1px rgba(60, 64, 67, 0.15);\n",
              "    fill: var(--button-hover-fill-color);\n",
              "  }\n",
              "\n",
              "  .colab-df-quickchart-complete:disabled,\n",
              "  .colab-df-quickchart-complete:disabled:hover {\n",
              "    background-color: var(--disabled-bg-color);\n",
              "    fill: var(--disabled-fill-color);\n",
              "    box-shadow: none;\n",
              "  }\n",
              "\n",
              "  .colab-df-spinner {\n",
              "    border: 2px solid var(--fill-color);\n",
              "    border-color: transparent;\n",
              "    border-bottom-color: var(--fill-color);\n",
              "    animation:\n",
              "      spin 1s steps(1) infinite;\n",
              "  }\n",
              "\n",
              "  @keyframes spin {\n",
              "    0% {\n",
              "      border-color: transparent;\n",
              "      border-bottom-color: var(--fill-color);\n",
              "      border-left-color: var(--fill-color);\n",
              "    }\n",
              "    20% {\n",
              "      border-color: transparent;\n",
              "      border-left-color: var(--fill-color);\n",
              "      border-top-color: var(--fill-color);\n",
              "    }\n",
              "    30% {\n",
              "      border-color: transparent;\n",
              "      border-left-color: var(--fill-color);\n",
              "      border-top-color: var(--fill-color);\n",
              "      border-right-color: var(--fill-color);\n",
              "    }\n",
              "    40% {\n",
              "      border-color: transparent;\n",
              "      border-right-color: var(--fill-color);\n",
              "      border-top-color: var(--fill-color);\n",
              "    }\n",
              "    60% {\n",
              "      border-color: transparent;\n",
              "      border-right-color: var(--fill-color);\n",
              "    }\n",
              "    80% {\n",
              "      border-color: transparent;\n",
              "      border-right-color: var(--fill-color);\n",
              "      border-bottom-color: var(--fill-color);\n",
              "    }\n",
              "    90% {\n",
              "      border-color: transparent;\n",
              "      border-bottom-color: var(--fill-color);\n",
              "    }\n",
              "  }\n",
              "</style>\n",
              "\n",
              "  <script>\n",
              "    async function quickchart(key) {\n",
              "      const quickchartButtonEl =\n",
              "        document.querySelector('#' + key + ' button');\n",
              "      quickchartButtonEl.disabled = true;  // To prevent multiple clicks.\n",
              "      quickchartButtonEl.classList.add('colab-df-spinner');\n",
              "      try {\n",
              "        const charts = await google.colab.kernel.invokeFunction(\n",
              "            'suggestCharts', [key], {});\n",
              "      } catch (error) {\n",
              "        console.error('Error during call to suggestCharts:', error);\n",
              "      }\n",
              "      quickchartButtonEl.classList.remove('colab-df-spinner');\n",
              "      quickchartButtonEl.classList.add('colab-df-quickchart-complete');\n",
              "    }\n",
              "    (() => {\n",
              "      let quickchartButtonEl =\n",
              "        document.querySelector('#df-585ec18e-2ee4-4271-a23d-e247526a53ae button');\n",
              "      quickchartButtonEl.style.display =\n",
              "        google.colab.kernel.accessAllowed ? 'block' : 'none';\n",
              "    })();\n",
              "  </script>\n",
              "</div>\n",
              "\n",
              "    </div>\n",
              "  </div>\n"
            ],
            "application/vnd.google.colaboratory.intrinsic+json": {
              "type": "dataframe",
              "variable_name": "final_data",
              "summary": "{\n  \"name\": \"final_data\",\n  \"rows\": 264,\n  \"fields\": [\n    {\n      \"column\": \"purchase_amount\",\n      \"properties\": {\n        \"dtype\": \"number\",\n        \"std\": 119,\n        \"min\": 51,\n        \"max\": 495,\n        \"num_unique_values\": 134,\n        \"samples\": [\n          390,\n          491,\n          375\n        ],\n        \"semantic_type\": \"\",\n        \"description\": \"\"\n      }\n    },\n    {\n      \"column\": \"customer_rating\",\n      \"properties\": {\n        \"dtype\": \"number\",\n        \"std\": 1.1171481590203292,\n        \"min\": 1.0,\n        \"max\": 5.0,\n        \"num_unique_values\": 172,\n        \"samples\": [\n          3.973157288732599,\n          2.662601977448053,\n          2.531843423327316\n        ],\n        \"semantic_type\": \"\",\n        \"description\": \"\"\n      }\n    },\n    {\n      \"column\": \"engagement_score\",\n      \"properties\": {\n        \"dtype\": \"number\",\n        \"std\": 11.725205998090651,\n        \"min\": 50.0,\n        \"max\": 99.0,\n        \"num_unique_values\": 38,\n        \"samples\": [\n          65.0,\n          86.0,\n          56.0\n        ],\n        \"semantic_type\": \"\",\n        \"description\": \"\"\n      }\n    },\n    {\n      \"column\": \"purchase_interest_score\",\n      \"properties\": {\n        \"dtype\": \"number\",\n        \"std\": 1.0093147665424274,\n        \"min\": 1.1,\n        \"max\": 5.0,\n        \"num_unique_values\": 34,\n        \"samples\": [\n          4.2,\n          1.3,\n          3.9\n        ],\n        \"semantic_type\": \"\",\n        \"description\": \"\"\n      }\n    },\n    {\n      \"column\": \"customer_engagement_score\",\n      \"properties\": {\n        \"dtype\": \"number\",\n        \"std\": 7.046985524146613,\n        \"min\": 30.6,\n        \"max\": 60.64,\n        \"num_unique_values\": 67,\n        \"samples\": [\n          45.48,\n          36.84,\n          34.64\n        ],\n        \"semantic_type\": \"\",\n        \"description\": \"\"\n      }\n    },\n    {\n      \"column\": \"monthly_total_spend\",\n      \"properties\": {\n        \"dtype\": \"number\",\n        \"std\": 632,\n        \"min\": 51,\n        \"max\": 2571,\n        \"num_unique_values\": 129,\n        \"samples\": [\n          201,\n          751,\n          375\n        ],\n        \"semantic_type\": \"\",\n        \"description\": \"\"\n      }\n    },\n    {\n      \"column\": \"monthly_avg_spend\",\n      \"properties\": {\n        \"dtype\": \"number\",\n        \"std\": 107.75149145880516,\n        \"min\": 51.0,\n        \"max\": 495.0,\n        \"num_unique_values\": 118,\n        \"samples\": [\n          145.0,\n          421.0,\n          64.0\n        ],\n        \"semantic_type\": \"\",\n        \"description\": \"\"\n      }\n    },\n    {\n      \"column\": \"avg_spent_last_3\",\n      \"properties\": {\n        \"dtype\": \"number\",\n        \"std\": 100.41996066617051,\n        \"min\": 62.0,\n        \"max\": 490.0,\n        \"num_unique_values\": 191,\n        \"samples\": [\n          247.66666666666663,\n          232.66666666666663,\n          177.66666666666666\n        ],\n        \"semantic_type\": \"\",\n        \"description\": \"\"\n      }\n    },\n    {\n      \"column\": \"transaction_id\",\n      \"properties\": {\n        \"dtype\": \"number\",\n        \"std\": 43,\n        \"min\": 1001,\n        \"max\": 1150,\n        \"num_unique_values\": 150,\n        \"samples\": [\n          1074,\n          1019,\n          1119\n        ],\n        \"semantic_type\": \"\",\n        \"description\": \"\"\n      }\n    },\n    {\n      \"column\": \"customer_id_legacy\",\n      \"properties\": {\n        \"dtype\": \"number\",\n        \"std\": 31,\n        \"min\": 100,\n        \"max\": 199,\n        \"num_unique_values\": 81,\n        \"samples\": [\n          161,\n          151,\n          157\n        ],\n        \"semantic_type\": \"\",\n        \"description\": \"\"\n      }\n    },\n    {\n      \"column\": \"purchase_date\",\n      \"properties\": {\n        \"dtype\": \"object\",\n        \"num_unique_values\": 112,\n        \"samples\": [\n          \"2024-04-03\",\n          \"2024-05-02\",\n          \"2024-02-27\"\n        ],\n        \"semantic_type\": \"\",\n        \"description\": \"\"\n      }\n    },\n    {\n      \"column\": \"social_media_platform\",\n      \"properties\": {\n        \"dtype\": \"category\",\n        \"num_unique_values\": 6,\n        \"samples\": [\n          \"Facebook\",\n          \"Instagram\",\n          \"Twitter\"\n        ],\n        \"semantic_type\": \"\",\n        \"description\": \"\"\n      }\n    },\n    {\n      \"column\": \"review_sentiment\",\n      \"properties\": {\n        \"dtype\": \"category\",\n        \"num_unique_values\": 3,\n        \"samples\": [\n          \"Negative\",\n          \"Positive\",\n          \"Neutral\"\n        ],\n        \"semantic_type\": \"\",\n        \"description\": \"\"\n      }\n    }\n  ]\n}"
            }
          },
          "metadata": {},
          "execution_count": 45
        }
      ]
    },
    {
      "cell_type": "code",
      "source": [
        "final_data.isnull().sum()"
      ],
      "metadata": {
        "colab": {
          "base_uri": "https://localhost:8080/",
          "height": 491
        },
        "id": "0bsY9amSGaP-",
        "outputId": "3610d33e-849e-4cf3-821a-b27c4abc4b52"
      },
      "execution_count": null,
      "outputs": [
        {
          "output_type": "execute_result",
          "data": {
            "text/plain": [
              "purchase_amount              0\n",
              "customer_rating              0\n",
              "engagement_score             0\n",
              "purchase_interest_score      0\n",
              "customer_engagement_score    0\n",
              "monthly_total_spend          0\n",
              "monthly_avg_spend            0\n",
              "avg_spent_last_3             0\n",
              "transaction_id               0\n",
              "customer_id_legacy           0\n",
              "purchase_date                0\n",
              "social_media_platform        0\n",
              "review_sentiment             0\n",
              "dtype: int64"
            ],
            "text/html": [
              "<div>\n",
              "<style scoped>\n",
              "    .dataframe tbody tr th:only-of-type {\n",
              "        vertical-align: middle;\n",
              "    }\n",
              "\n",
              "    .dataframe tbody tr th {\n",
              "        vertical-align: top;\n",
              "    }\n",
              "\n",
              "    .dataframe thead th {\n",
              "        text-align: right;\n",
              "    }\n",
              "</style>\n",
              "<table border=\"1\" class=\"dataframe\">\n",
              "  <thead>\n",
              "    <tr style=\"text-align: right;\">\n",
              "      <th></th>\n",
              "      <th>0</th>\n",
              "    </tr>\n",
              "  </thead>\n",
              "  <tbody>\n",
              "    <tr>\n",
              "      <th>purchase_amount</th>\n",
              "      <td>0</td>\n",
              "    </tr>\n",
              "    <tr>\n",
              "      <th>customer_rating</th>\n",
              "      <td>0</td>\n",
              "    </tr>\n",
              "    <tr>\n",
              "      <th>engagement_score</th>\n",
              "      <td>0</td>\n",
              "    </tr>\n",
              "    <tr>\n",
              "      <th>purchase_interest_score</th>\n",
              "      <td>0</td>\n",
              "    </tr>\n",
              "    <tr>\n",
              "      <th>customer_engagement_score</th>\n",
              "      <td>0</td>\n",
              "    </tr>\n",
              "    <tr>\n",
              "      <th>monthly_total_spend</th>\n",
              "      <td>0</td>\n",
              "    </tr>\n",
              "    <tr>\n",
              "      <th>monthly_avg_spend</th>\n",
              "      <td>0</td>\n",
              "    </tr>\n",
              "    <tr>\n",
              "      <th>avg_spent_last_3</th>\n",
              "      <td>0</td>\n",
              "    </tr>\n",
              "    <tr>\n",
              "      <th>transaction_id</th>\n",
              "      <td>0</td>\n",
              "    </tr>\n",
              "    <tr>\n",
              "      <th>customer_id_legacy</th>\n",
              "      <td>0</td>\n",
              "    </tr>\n",
              "    <tr>\n",
              "      <th>purchase_date</th>\n",
              "      <td>0</td>\n",
              "    </tr>\n",
              "    <tr>\n",
              "      <th>social_media_platform</th>\n",
              "      <td>0</td>\n",
              "    </tr>\n",
              "    <tr>\n",
              "      <th>review_sentiment</th>\n",
              "      <td>0</td>\n",
              "    </tr>\n",
              "  </tbody>\n",
              "</table>\n",
              "</div><br><label><b>dtype:</b> int64</label>"
            ]
          },
          "metadata": {},
          "execution_count": 46
        }
      ]
    },
    {
      "cell_type": "code",
      "source": [
        "print(final_data.columns)"
      ],
      "metadata": {
        "colab": {
          "base_uri": "https://localhost:8080/"
        },
        "id": "sXNpsTGlHbRo",
        "outputId": "4dd4309c-e61f-44c2-e2a8-4f71aa9f28b6"
      },
      "execution_count": null,
      "outputs": [
        {
          "output_type": "stream",
          "name": "stdout",
          "text": [
            "Index(['purchase_amount', 'customer_rating', 'engagement_score',\n",
            "       'purchase_interest_score', 'customer_engagement_score',\n",
            "       'monthly_total_spend', 'monthly_avg_spend', 'avg_spent_last_3',\n",
            "       'transaction_id', 'customer_id_legacy', 'purchase_date',\n",
            "       'social_media_platform', 'review_sentiment'],\n",
            "      dtype='object')\n"
          ]
        }
      ]
    },
    {
      "cell_type": "code",
      "source": [
        "# Convert categorical variables to numerical (if not already)\n",
        "final_data = pd.get_dummies(final_data, columns=[\"customer_rating\", \"social_media_platform\", \"review_sentiment\"], drop_first=True)"
      ],
      "metadata": {
        "id": "do7VBXxYGkgi"
      },
      "execution_count": null,
      "outputs": []
    },
    {
      "cell_type": "code",
      "source": [
        "# Define features and target variable\n",
        "X = final_data.drop(columns=[\"purchase_amount\", \"purchase_date\", \"customer_id_legacy\", \"transaction_id\"], errors='ignore')  # Drop non-relevant columns, ignore if not found\n",
        "y = final_data[\"purchase_amount\"]"
      ],
      "metadata": {
        "id": "grvVNk2jG0Up"
      },
      "execution_count": null,
      "outputs": []
    },
    {
      "cell_type": "code",
      "source": [
        "# Split into train and test sets first\n",
        "X_train, X_test, y_train, y_test = train_test_split(X, y, test_size=0.2, random_state=42)\n",
        "# Now split the training set further into train and validation sets\n",
        "X_train, X_val, y_train, y_val = train_test_split(X_train, y_train, test_size=0.2, random_state=42)"
      ],
      "metadata": {
        "id": "vGPvBPqfG6-x"
      },
      "execution_count": null,
      "outputs": []
    },
    {
      "cell_type": "code",
      "source": [
        "# Initialize models\n",
        "lr_model =  LinearRegression()\n",
        "rf_model = RandomForestRegressor(random_state=42)\n",
        "\n",
        "# Dictionary to store models\n",
        "models = {\n",
        "    'Linear Regression': lr_model,\n",
        "    'Random Forest': rf_model\n",
        "}"
      ],
      "metadata": {
        "id": "rVGHCBJ8O5om"
      },
      "execution_count": null,
      "outputs": []
    },
    {
      "cell_type": "code",
      "source": [
        "# Train models and store results\n",
        "results = {}\n",
        "for name, model in models.items():\n",
        "    # Train\n",
        "    model.fit(X_train, y_train)\n",
        "    # Make predictions\n",
        "    y_pred = model.predict(X_test)\n",
        "    # Calculate metrics\n",
        "    mse = mean_squared_error(y_test, y_pred)\n",
        "    rmse = np.sqrt(mse)\n",
        "    r2 = r2_score(y_test, y_pred)\n",
        "    results[name] = {'mse': mse, 'rmse': rmse, 'r2': r2}"
      ],
      "metadata": {
        "id": "FLKeAPbGLOud"
      },
      "execution_count": null,
      "outputs": []
    },
    {
      "cell_type": "code",
      "source": [
        "# Print results\n",
        "print(\"Comparison of the Models\")\n",
        "for name, result in results.items():\n",
        "    print(f\"\\n{name} Results:\")\n",
        "    print(f\"MSE: {result['mse']:.2f}\")\n",
        "    print(f\"RMSE: {result['rmse']:.2f}\")\n",
        "    print(f\"R2 Score: {result['r2']:.2f}\")"
      ],
      "metadata": {
        "colab": {
          "base_uri": "https://localhost:8080/"
        },
        "id": "h7PsT0JJUwTo",
        "outputId": "73f65327-64c9-4325-bb71-20cf2bc8a269"
      },
      "execution_count": null,
      "outputs": [
        {
          "output_type": "stream",
          "name": "stdout",
          "text": [
            "Comparison of the Models\n",
            "\n",
            "Linear Regression Results:\n",
            "MSE: 8472.10\n",
            "RMSE: 92.04\n",
            "R2 Score: 0.37\n",
            "\n",
            "Random Forest Results:\n",
            "MSE: 1924.65\n",
            "RMSE: 43.87\n",
            "R2 Score: 0.86\n"
          ]
        }
      ]
    },
    {
      "cell_type": "code",
      "source": [
        "# Select the best model based on R2 score\n",
        "best_model_name = max(results, key=lambda x: results[x]['r2'])\n",
        "best_model = models[best_model_name]\n",
        "print(f\"\\nBest Model: {best_model_name} (R2 = {results[best_model_name]['r2']:.2f})\")"
      ],
      "metadata": {
        "colab": {
          "base_uri": "https://localhost:8080/"
        },
        "id": "IbJX5ZdZU0kL",
        "outputId": "ca49e287-8386-42fa-9c3c-cb82a21b5ac8"
      },
      "execution_count": null,
      "outputs": [
        {
          "output_type": "stream",
          "name": "stdout",
          "text": [
            "\n",
            "Best Model: Random Forest (R2 = 0.86)\n"
          ]
        }
      ]
    },
    {
      "cell_type": "code",
      "source": [
        "# Save the best model\n",
        "joblib.dump(best_model, 'best_random_forest_model.pkl')\n",
        "print(\"\\nBest model saved as 'best_random_forest_model.pkl'\")"
      ],
      "metadata": {
        "colab": {
          "base_uri": "https://localhost:8080/"
        },
        "id": "mRjeLbXWMdhs",
        "outputId": "17d839e3-d364-4802-cd21-cf6e13e12777"
      },
      "execution_count": null,
      "outputs": [
        {
          "output_type": "stream",
          "name": "stdout",
          "text": [
            "\n",
            "Best model saved as 'best_random_forest_model.pkl'\n"
          ]
        }
      ]
    },
    {
      "cell_type": "code",
      "source": [
        "# Plot actual vs predicted for the best model\n",
        "plt.figure(figsize=(8, 6))\n",
        "plt.scatter(y_test, best_model.predict(X_test), alpha=0.5)\n",
        "plt.plot([y_test.min(), y_test.max()], [y_test.min(), y_test.max()], 'r--', lw=2)\n",
        "plt.xlabel('Actual Purchase Amount')\n",
        "plt.ylabel('Predicted Purchase Amount')\n",
        "plt.title('Actual vs Predicted Purchase Amount')\n",
        "plt.tight_layout()\n",
        "plt.show()"
      ],
      "metadata": {
        "colab": {
          "base_uri": "https://localhost:8080/",
          "height": 517
        },
        "id": "K9sSZq0eNFyW",
        "outputId": "5ad07228-8271-4f2c-c819-722758083f74"
      },
      "execution_count": null,
      "outputs": [
        {
          "output_type": "display_data",
          "data": {
            "text/plain": [
              "<Figure size 800x600 with 1 Axes>"
            ],
            "image/png": "[encoded data removed]"
          },
          "metadata": {}
        }
      ]
    }
  ]
}